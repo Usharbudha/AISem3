{
  "nbformat": 4,
  "nbformat_minor": 0,
  "metadata": {
    "colab": {
      "name": "MTech(DS)_AI_M1_Usharbudha_Dev(D009).ipynb",
      "provenance": [],
      "authorship_tag": "ABX9TyNoYNed458sru8elEL9dNK6",
      "include_colab_link": true
    },
    "kernelspec": {
      "name": "python3",
      "display_name": "Python 3"
    }
  },
  "cells": [
    {
      "cell_type": "markdown",
      "metadata": {
        "id": "view-in-github",
        "colab_type": "text"
      },
      "source": [
        "<a href=\"https://colab.research.google.com/github/Usharbudha/AISem3/blob/master/M1/MTech(DS)_AI_M1_Usharbudha_Dev(D009).ipynb\" target=\"_parent\"><img src=\"https://colab.research.google.com/assets/colab-badge.svg\" alt=\"Open In Colab\"/></a>"
      ]
    },
    {
      "cell_type": "code",
      "metadata": {
        "id": "90EJzzT9CsQF",
        "colab_type": "code",
        "colab": {
          "base_uri": "https://localhost:8080/",
          "height": 55
        },
        "outputId": "ce3934a9-af9d-40ea-ee41-c25d1e78c9ab"
      },
      "source": [
        "import copy\n",
        "\n",
        "x_pac,y_pac=list(map(int,input().split()))\n",
        "x_food,y_food=list(map(int,input().split()))\n",
        "size = 5\n",
        "#tuple(map(int,input().split()))\n",
        "board=[['-','%','%','-','-','%'],\n",
        "       ['%','-','-','%','-','-'],\n",
        "       ['-','%','P','-','-','%'],\n",
        "       ['%','-','%','-','%','-'],\n",
        "       ['-','-','-','%','-','%']]\n",
        "\"\"\"\n",
        "board=[[-%%--],\n",
        "       [%--%-],\n",
        "       [-%P--],\n",
        "       [%-%-%],\n",
        "       [---%-]]\n",
        "board = []\n",
        "for r in range(size[0]):\n",
        "  board.append(list(input()))\n",
        "\n",
        "\"\"\"\n",
        "queue=[]\n",
        "queue.append([x_pac,y_pac,[]])\n",
        "route=[]"
      ],
      "execution_count": 37,
      "outputs": [
        {
          "output_type": "stream",
          "text": [
            "4 3\n",
            "3 1\n"
          ],
          "name": "stdout"
        }
      ]
    },
    {
      "cell_type": "markdown",
      "metadata": {
        "id": "zXPTwahEDLfn",
        "colab_type": "text"
      },
      "source": [
        "x_pac,y_pac for Pacman's position\n",
        "\n",
        "x_food,y_food for food's position\n",
        "\n",
        "I tried taking input from the user for size and borad, but was facing some issue. So, I've commented that part.\n"
      ]
    },
    {
      "cell_type": "code",
      "metadata": {
        "id": "kFf7YgaVx8Qh",
        "colab_type": "code",
        "colab": {}
      },
      "source": [
        "def Heuristic(x_pos,y_pos):\n",
        "    return abs(x_food-x_pos)+abs(y_food-y_pos)"
      ],
      "execution_count": 38,
      "outputs": []
    },
    {
      "cell_type": "markdown",
      "metadata": {
        "id": "Lp0jzt2D183S",
        "colab_type": "text"
      },
      "source": [
        "Above I've used Manhattan Heuristic viz, sum of absolute values of differences in the goal’s x and y values and the current cell’s x and y coordinates. Used this distance because, in pacman we are only allowed to go in 4 directions,i.e, Up, Down, Left and Right."
      ]
    },
    {
      "cell_type": "code",
      "metadata": {
        "id": "4vvxlTbjQM7_",
        "colab_type": "code",
        "colab": {}
      },
      "source": [
        "def valid(x,y):\n",
        "    if board[x][y]=='-'or board[x][y] == '.':\n",
        "        board[x][y] = '='\n",
        "        return True\n",
        "    return False"
      ],
      "execution_count": 39,
      "outputs": []
    },
    {
      "cell_type": "markdown",
      "metadata": {
        "id": "YDS5VOwoQe6s",
        "colab_type": "text"
      },
      "source": [
        "Above function checks whether the the move is valid or not."
      ]
    },
    {
      "cell_type": "code",
      "metadata": {
        "id": "-V9ACxfG6GsH",
        "colab_type": "code",
        "colab": {}
      },
      "source": [
        "directions=[(-1,0),(0,-1),(0,1),(1,0)] #up, left, right, down"
      ],
      "execution_count": 40,
      "outputs": []
    },
    {
      "cell_type": "code",
      "metadata": {
        "id": "l-GYLSF2BqlQ",
        "colab_type": "code",
        "colab": {}
      },
      "source": [
        "def found_food(x, y):\n",
        "    if x==x_food and y==y_food:\n",
        "        return True\n",
        "    return False"
      ],
      "execution_count": 41,
      "outputs": []
    },
    {
      "cell_type": "markdown",
      "metadata": {
        "id": "iKQ0nQiGBzAU",
        "colab_type": "text"
      },
      "source": [
        "Above function tells us whether pacman found the food or not."
      ]
    },
    {
      "cell_type": "code",
      "metadata": {
        "id": "tWf-1uqLByPO",
        "colab_type": "code",
        "colab": {}
      },
      "source": [
        "def in_game(x,y):\n",
        "    if x<0 or x>=size or y<0 or y>=size:\n",
        "        return True\n",
        "    return False"
      ],
      "execution_count": 42,
      "outputs": []
    },
    {
      "cell_type": "markdown",
      "metadata": {
        "id": "7_22fxnVCVDP",
        "colab_type": "text"
      },
      "source": [
        "Above function tells us whether Pacman is in tha game or not."
      ]
    },
    {
      "cell_type": "code",
      "metadata": {
        "id": "Nsmdyjp5EA7m",
        "colab_type": "code",
        "colab": {}
      },
      "source": [
        "def game():\n",
        "    shortest_path = []\n",
        "    print(\"Pacman's Position:\",(x_pac,y_pac))\n",
        "    print(\"Food's Position:\",(x_food,y_food))\n",
        "    while len(queue)!=0:\n",
        "        x,y,r=queue.pop(0)\n",
        "        route=copy.deepcopy(r)\n",
        "        route.append([x,y])\n",
        "        if found_food(x,y):\n",
        "            shortest_path=copy.deepcopy(r)\n",
        "            break\n",
        "        possible_move=[]\n",
        "        for i in directions:\n",
        "            x_pos,y_pos=x+i[0],y+i[1]\n",
        "            if in_game(x_pos,y_pos):\n",
        "                continue\n",
        "            if valid(x_pos,y_pos):\n",
        "                possible_move.append([x_pos,y_pos,Heuristic(x_pos,y_pos)])\n",
        "        \n",
        "        possible_move.sort(key=lambda x: x[2])\n",
        "        for j in possible_move:\n",
        "            queue.append([j[0],j[1],route])\n",
        "    return shortest_path"
      ],
      "execution_count": 44,
      "outputs": []
    },
    {
      "cell_type": "markdown",
      "metadata": {
        "id": "9hXQAluxSEfC",
        "colab_type": "text"
      },
      "source": [
        "In the above function, a queue will iterrate until Pacman gets the food. If Pacman gets the food it will break the loop and return the shortest path, otherwise it will continue on all possible paths until food is obtained."
      ]
    },
    {
      "cell_type": "code",
      "metadata": {
        "id": "JHsQ4hRqUqna",
        "colab_type": "code",
        "colab": {
          "base_uri": "https://localhost:8080/",
          "height": 51
        },
        "outputId": "decf6ecc-8466-4019-b2ce-e30521a92c3a"
      },
      "source": [
        "pacman=[]\n",
        "pacman=game()"
      ],
      "execution_count": 45,
      "outputs": [
        {
          "output_type": "stream",
          "text": [
            "Pacman's Position: (4, 3)\n",
            "Food's Position: (3, 1)\n"
          ],
          "name": "stdout"
        }
      ]
    },
    {
      "cell_type": "code",
      "metadata": {
        "id": "v7ys7ZnQS7T0",
        "colab_type": "code",
        "colab": {
          "base_uri": "https://localhost:8080/",
          "height": 51
        },
        "outputId": "996a6e3d-bdf0-4874-b476-d51a65714755"
      },
      "source": [
        "i=0\n",
        "print('Shortest Path: ')\n",
        "for j in pacman:\n",
        "    if i==len(pacman)-1:\n",
        "        print(j)\n",
        "    else:\n",
        "        print(j,end='--')\n",
        "    i = i + 1"
      ],
      "execution_count": 46,
      "outputs": [
        {
          "output_type": "stream",
          "text": [
            "Shortest Path: \n",
            "[4, 3]--[4, 2]--[4, 1]\n"
          ],
          "name": "stdout"
        }
      ]
    },
    {
      "cell_type": "markdown",
      "metadata": {
        "id": "96z_Yr5TVApn",
        "colab_type": "text"
      },
      "source": [
        "Above code will gives us the shortest path"
      ]
    },
    {
      "cell_type": "code",
      "metadata": {
        "id": "PKd_b3vaVGjW",
        "colab_type": "code",
        "colab": {}
      },
      "source": [
        ""
      ],
      "execution_count": null,
      "outputs": []
    }
  ]
}